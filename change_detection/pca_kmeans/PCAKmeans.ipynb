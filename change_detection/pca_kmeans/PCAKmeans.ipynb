{
 "cells": [
  {
   "cell_type": "code",
   "execution_count": 1,
   "metadata": {
    "ExecuteTime": {
     "end_time": "2019-08-15T03:57:33.584375Z",
     "start_time": "2019-08-15T03:57:31.957205Z"
    },
    "collapsed": true
   },
   "outputs": [],
   "source": [
    "import cv2\n",
    "import numpy as np\n",
    "from sklearn.cluster import KMeans\n",
    "from sklearn.decomposition import PCA\n",
    "from collections import Counter\n",
    "from scipy.misc import imresize\n",
    "from imageio import imread, imwrite"
   ]
  },
  {
   "cell_type": "markdown",
   "metadata": {},
   "source": [
    "Here we outline an unsupervised method for change detection using PCA & K-Means. It involves the automatic analysis of the change data, **i.e. the difference image**, constructed using the multi temporal images. A difference image is the pixel-by-pixel subtraction of the 2 images. Eigen vectors of pixel blocks from the difference image will then be extracted by Principal Component Analysis (PCA). Subsequently, a feature vector is constructed for each pixel in the difference image by projecting that pixel’s neighbourhood onto the Eigen vectors. The feature vector space, which is the collection of the feature vectors for all the pixels, upon clustering by K-means algorithm gives us two clusters – one representing pixels belonging to the changed class, and other representing pixels belonging to the unchanged class. Each pixel will belong to either of the clusters and hence a **change map** can be generated. \n",
    "\n",
    "So, the steps towards implementing this application are:\n",
    "\n",
    "1. difference image generation and Eigen vector space (EVS)\n",
    "2. building the feature vector space (FVS)\n",
    "3. clustering of the feature vector space and change map\n",
    "\n",
    "Source: https://appliedmachinelearning.blog/2017/11/25/unsupervised-changed-detection-in-multi-temporal-satellite-images-using-pca-k-means-python-code/"
   ]
  },
  {
   "cell_type": "code",
   "execution_count": 2,
   "metadata": {
    "ExecuteTime": {
     "end_time": "2019-08-15T03:57:33.732429Z",
     "start_time": "2019-08-15T03:57:33.606808Z"
    },
    "collapsed": true
   },
   "outputs": [],
   "source": [
    "def find_vector_set(diff_image, new_size):\n",
    "\n",
    "    i = 0\n",
    "    j = 0\n",
    "    vector_set = np.zeros((int(new_size[0] * new_size[1] / 25), 25))\n",
    "\n",
    "    print('\\nVector_set shape: ',vector_set.shape)\n",
    "    \n",
    "    while i < vector_set.shape[0]:\n",
    "        while j < new_size[0]:\n",
    "            k = 0\n",
    "            while k < new_size[1]:\n",
    "                block   = diff_image[j:j+5, k:k+5]\n",
    "                #print(i,j,k,block.shape)\n",
    "                feature = block.ravel()\n",
    "                vector_set[i, :] = feature\n",
    "                k = k + 5\n",
    "            j = j + 5\n",
    "        i = i + 1\n",
    "        \n",
    "            \n",
    "    mean_vec   = np.mean(vector_set, axis = 0)    \n",
    "    vector_set = vector_set - mean_vec\n",
    "    \n",
    "    return vector_set, mean_vec"
   ]
  },
  {
   "cell_type": "code",
   "execution_count": 3,
   "metadata": {
    "ExecuteTime": {
     "end_time": "2019-08-15T03:57:33.807486Z",
     "start_time": "2019-08-15T03:57:33.739735Z"
    },
    "collapsed": true
   },
   "outputs": [],
   "source": [
    "def find_FVS(EVS, diff_image, mean_vec, new):\n",
    "    \n",
    "    i = 2 \n",
    "    feature_vector_set = []\n",
    "    \n",
    "    while i < new[0] - 2:\n",
    "        j = 2\n",
    "        while j < new[1] - 2:\n",
    "            block = diff_image[i-2:i+3, j-2:j+3]\n",
    "            feature = block.flatten()\n",
    "            feature_vector_set.append(feature)\n",
    "            j = j+1\n",
    "        i = i+1\n",
    "        \n",
    "    FVS = np.dot(feature_vector_set, EVS)\n",
    "    FVS = FVS - mean_vec\n",
    "    print('\\nFeature vector space size: ',FVS.shape)\n",
    "    return FVS"
   ]
  },
  {
   "cell_type": "code",
   "execution_count": 4,
   "metadata": {
    "ExecuteTime": {
     "end_time": "2019-08-15T03:57:33.841793Z",
     "start_time": "2019-08-15T03:57:33.813207Z"
    },
    "collapsed": true
   },
   "outputs": [],
   "source": [
    "def clustering(FVS, components, new):\n",
    "    \n",
    "    kmeans = KMeans(components, verbose = 0)\n",
    "    kmeans.fit(FVS)\n",
    "    output = kmeans.predict(FVS)\n",
    "    count  = Counter(output)\n",
    "\n",
    "    least_index = min(count, key = count.get)            \n",
    "    print(new[0],new[1])\n",
    "    change_map  = np.reshape(output,(new[0] - 4, new[1] - 4))\n",
    "    \n",
    "    return least_index, change_map"
   ]
  },
  {
   "cell_type": "code",
   "execution_count": 5,
   "metadata": {
    "ExecuteTime": {
     "end_time": "2019-08-15T03:57:34.296951Z",
     "start_time": "2019-08-15T03:57:34.134748Z"
    },
    "collapsed": true
   },
   "outputs": [],
   "source": [
    "def find_PCAKmeans(imagepath1, imagepath2):\n",
    "    \n",
    "    print('Operating...')\n",
    "    \n",
    "    image1 = imread(imagepath1)\n",
    "    image2 = imread(imagepath2)\n",
    "    print(image1.shape,image2.shape) \n",
    "    new_size = np.asarray(image1.shape) / 5\n",
    "    new_size = new_size.astype(int) * 5\n",
    "    image1 = imresize(image1, (new_size)).astype(np.int16)\n",
    "    image2 = imresize(image2, (new_size)).astype(np.int16)\n",
    "    \n",
    "    diff_image = abs(image1 - image2)   \n",
    "    imwrite('diff.jpg', diff_image)\n",
    "    print('\\nBoth images resized to ',new_size)\n",
    "        \n",
    "    vector_set, mean_vec = find_vector_set(diff_image, new_size)\n",
    "    \n",
    "    pca     = PCA()\n",
    "    pca.fit(vector_set)\n",
    "    EVS = pca.components_\n",
    "        \n",
    "    FVS     = find_FVS(EVS, diff_image, mean_vec, new_size)\n",
    "    \n",
    "    print('\\nComputing K-means')\n",
    "    \n",
    "    components = 3\n",
    "    least_index, change_map = clustering(FVS, components, new_size)\n",
    "    \n",
    "    change_map[change_map == least_index] = 255\n",
    "    change_map[change_map != 255] = 0\n",
    "    \n",
    "    change_map = change_map.astype(np.uint8)\n",
    "    kernel     = np.asarray(((0,0,1,0,0),\n",
    "                             (0,1,1,1,0),\n",
    "                             (1,1,1,1,1),\n",
    "                             (0,1,1,1,0),\n",
    "                             (0,0,1,0,0)), dtype=np.uint8)\n",
    "    cleanChangeMap = cv2.erode(change_map,kernel)\n",
    "    imwrite(\"changemap.jpg\", change_map)\n",
    "    imwrite(\"cleanchangemap.jpg\", cleanChangeMap)"
   ]
  },
  {
   "cell_type": "code",
   "execution_count": 6,
   "metadata": {
    "ExecuteTime": {
     "end_time": "2019-08-15T04:00:04.231896Z",
     "start_time": "2019-08-15T03:57:35.332773Z"
    }
   },
   "outputs": [
    {
     "name": "stdout",
     "output_type": "stream",
     "text": [
      "Operating\n",
      "(2408, 1200) (2401, 1200)\n"
     ]
    },
    {
     "name": "stderr",
     "output_type": "stream",
     "text": [
      "/Users/EdwardLeardi/anaconda/lib/python3.6/site-packages/ipykernel_launcher.py:10: DeprecationWarning: `imresize` is deprecated!\n",
      "`imresize` is deprecated in SciPy 1.0.0, and will be removed in 1.2.0.\n",
      "Use ``skimage.transform.resize`` instead.\n",
      "  # Remove the CWD from sys.path while we load stuff.\n",
      "/Users/EdwardLeardi/anaconda/lib/python3.6/site-packages/ipykernel_launcher.py:11: DeprecationWarning: `imresize` is deprecated!\n",
      "`imresize` is deprecated in SciPy 1.0.0, and will be removed in 1.2.0.\n",
      "Use ``skimage.transform.resize`` instead.\n",
      "  # This is added back by InteractiveShellApp.init_path()\n",
      "Lossy conversion from int16 to uint8. Range [0, 255]. Convert image to uint8 prior to saving to suppress this warning.\n"
     ]
    },
    {
     "name": "stdout",
     "output_type": "stream",
     "text": [
      "\n",
      "Both images resized to  [2405 1200]\n",
      "\n",
      "vector_set shape (115440, 25)\n",
      "\n",
      "feature vector space size (2871596, 25)\n",
      "\n",
      "computing k means\n",
      "2405 1200\n"
     ]
    }
   ],
   "source": [
    "a = 'ElephantButte_08201991.jpg'\n",
    "b = 'ElephantButte_08272011.jpg'\n",
    "a1 = 'Dubai_11122012.jpg'\n",
    "b1 = 'Dubai_11272000.jpg'\n",
    "a2 = 'Andasol_09051987.jpg'\n",
    "b2 = 'Andasol_09122013.jpg'\n",
    "\n",
    "find_PCAKmeans(a,b)   "
   ]
  },
  {
   "cell_type": "code",
   "execution_count": null,
   "metadata": {
    "collapsed": true
   },
   "outputs": [],
   "source": []
  }
 ],
 "metadata": {
  "kernelspec": {
   "display_name": "Python 3",
   "language": "python",
   "name": "python3"
  },
  "language_info": {
   "codemirror_mode": {
    "name": "ipython",
    "version": 3
   },
   "file_extension": ".py",
   "mimetype": "text/x-python",
   "name": "python",
   "nbconvert_exporter": "python",
   "pygments_lexer": "ipython3",
   "version": "3.6.4"
  },
  "toc": {
   "nav_menu": {},
   "number_sections": true,
   "sideBar": true,
   "skip_h1_title": false,
   "title_cell": "Table of Contents",
   "title_sidebar": "Contents",
   "toc_cell": false,
   "toc_position": {},
   "toc_section_display": true,
   "toc_window_display": true
  }
 },
 "nbformat": 4,
 "nbformat_minor": 2
}
